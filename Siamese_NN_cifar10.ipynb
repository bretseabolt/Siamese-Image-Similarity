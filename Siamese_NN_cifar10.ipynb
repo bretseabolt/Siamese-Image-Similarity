{
  "nbformat": 4,
  "nbformat_minor": 0,
  "metadata": {
    "colab": {
      "provenance": [],
      "machine_shape": "hm",
      "gpuType": "L4"
    },
    "kernelspec": {
      "name": "python3",
      "display_name": "Python 3"
    },
    "language_info": {
      "name": "python"
    },
    "accelerator": "GPU"
  },
  "cells": [
    {
      "cell_type": "markdown",
      "source": [
        "IMPORTS, LOADING, AND PREPROCESSING"
      ],
      "metadata": {
        "id": "Cw3EhV_2CwSS"
      }
    },
    {
      "cell_type": "code",
      "execution_count": 26,
      "metadata": {
        "id": "cWaYA3jB9uHO"
      },
      "outputs": [],
      "source": [
        "# import libraries\n",
        "import torch\n",
        "import torch.nn as nn\n",
        "import torchvision\n",
        "import torchvision.transforms as transforms\n",
        "import matplotlib.pyplot as plt\n",
        "from torch.utils.data import DataLoader"
      ]
    },
    {
      "cell_type": "code",
      "source": [
        "# check PyTorch and GPU setup\n",
        "print(\"PyTorch Version:\", torch.__version__)\n",
        "print(\"CUDA Available:\", torch.cuda.is_available())\n",
        "print(\"GPU Name:\", torch.cuda.get_device_name(0) if torch.cuda.is_available() else \"No GPU\")"
      ],
      "metadata": {
        "colab": {
          "base_uri": "https://localhost:8080/"
        },
        "id": "_MrT6Ag6_IoH",
        "outputId": "e7c25127-786e-4743-9ccf-88d6798fdd63"
      },
      "execution_count": 27,
      "outputs": [
        {
          "output_type": "stream",
          "name": "stdout",
          "text": [
            "PyTorch Version: 2.5.1+cu124\n",
            "CUDA Available: True\n",
            "GPU Name: NVIDIA L4\n"
          ]
        }
      ]
    },
    {
      "cell_type": "code",
      "source": [
        "# preprocessing transformation\n",
        "# convert images to PyTorch tensors\n",
        "transform = transforms.Compose([transforms.ToTensor(),\n",
        "                                ])"
      ],
      "metadata": {
        "id": "7e3Ci4LNADtg"
      },
      "execution_count": 28,
      "outputs": []
    },
    {
      "cell_type": "code",
      "source": [
        "# load cifar-10 dataset\n",
        "# partition into train and test sets\n",
        "trainset=torchvision.datasets.CIFAR10(\n",
        "    root='./data',\n",
        "    train=True, # load training set (50k images)\n",
        "    download=True,\n",
        "    transform=transform\n",
        ")\n",
        "\n",
        "testset = torchvision.datasets.CIFAR10(\n",
        "    root='./data',\n",
        "    train=False, # load test set (10k images)\n",
        "    download=True,\n",
        "    transform=transform\n",
        ")"
      ],
      "metadata": {
        "colab": {
          "base_uri": "https://localhost:8080/"
        },
        "id": "gHJRShz-AYL4",
        "outputId": "3e01241b-b913-4c58-ada6-41915e456d40"
      },
      "execution_count": 29,
      "outputs": [
        {
          "output_type": "stream",
          "name": "stdout",
          "text": [
            "Files already downloaded and verified\n",
            "Files already downloaded and verified\n"
          ]
        }
      ]
    },
    {
      "cell_type": "code",
      "source": [
        "# create dataloaders\n",
        "train_loader = DataLoader(trainset, batch_size=6, shuffle=True)\n",
        "test_loader = DataLoader(testset, batch_size=6, shuffle=False)"
      ],
      "metadata": {
        "id": "Yx8c5ABxBVOY"
      },
      "execution_count": 30,
      "outputs": []
    },
    {
      "cell_type": "code",
      "source": [
        "# inspect data\n",
        "dataiter = iter(train_loader) # iterator to grab batch\n",
        "images, labels = next(dataiter) # get first batch\n",
        "print(\"Batch of images shape:\", images.shape)\n",
        "print(\"Batch of labels shape:\", labels.shape)\n",
        "print(\"Image value range:\", images.min().item(), \"to\", images.max().item())"
      ],
      "metadata": {
        "colab": {
          "base_uri": "https://localhost:8080/"
        },
        "id": "4XNBBj_QByZp",
        "outputId": "d21a7fd3-f176-45ef-8cc0-878d9a3d8bd9"
      },
      "execution_count": 31,
      "outputs": [
        {
          "output_type": "stream",
          "name": "stdout",
          "text": [
            "Batch of images shape: torch.Size([6, 3, 32, 32])\n",
            "Batch of labels shape: torch.Size([6])\n",
            "Image value range: 0.0235294122248888 to 1.0\n"
          ]
        }
      ]
    },
    {
      "cell_type": "code",
      "source": [
        "# define class names for reference\n",
        "class_names = ['airplane', 'automobile', 'bird', 'cat', 'deer',\n",
        "               'dog', 'frog', 'horse', 'ship', 'truck']\n",
        "\n",
        "\n",
        "print(\"Class names:\", class_names)"
      ],
      "metadata": {
        "colab": {
          "base_uri": "https://localhost:8080/"
        },
        "id": "Ak7XGg-VCN4a",
        "outputId": "ef92a784-14d6-4721-fd71-9ed1c5e5d03d"
      },
      "execution_count": 32,
      "outputs": [
        {
          "output_type": "stream",
          "name": "stdout",
          "text": [
            "Class names: ['airplane', 'automobile', 'bird', 'cat', 'deer', 'dog', 'frog', 'horse', 'ship', 'truck']\n"
          ]
        }
      ]
    },
    {
      "cell_type": "markdown",
      "source": [
        "VERIFY AND VISUALIZE DATA"
      ],
      "metadata": {
        "id": "7LE-7XgHDJr-"
      }
    },
    {
      "cell_type": "code",
      "source": [
        "# check full dataset range\n",
        "all_images = torch.stack([img for img, _ in trainset]) # stacks all 50k training images\n",
        "print(\"Full training set value range:\", all_images.min().item(), \"to\", all_images.max().item())"
      ],
      "metadata": {
        "colab": {
          "base_uri": "https://localhost:8080/"
        },
        "id": "JVnO1t5rDPa-",
        "outputId": "6f0c0994-9068-4205-f50e-d13376e73863"
      },
      "execution_count": 33,
      "outputs": [
        {
          "output_type": "stream",
          "name": "stdout",
          "text": [
            "Full training set value range: 0.0 to 1.0\n"
          ]
        }
      ]
    },
    {
      "cell_type": "code",
      "source": [
        "# function to visualize images\n",
        "def show_images(images, labels, class_names, num_images=4):\n",
        "  plt.figure(figsize=(10,3))\n",
        "  for i in range(num_images):\n",
        "    plt.subplot(1, num_images, i+1)\n",
        "    # permute tensor from [3, 32, 32] to [32, 32, 3] for display\n",
        "    img = images[i].permute(1, 2, 0).numpy()\n",
        "    plt.imshow(img)\n",
        "    plt.title(class_names[labels[i].item()])\n",
        "    plt.axis('off')\n",
        "  plt.show()"
      ],
      "metadata": {
        "id": "3qgRDNN2DvBu"
      },
      "execution_count": 34,
      "outputs": []
    },
    {
      "cell_type": "code",
      "source": [
        "# grab a batch and visualize\n",
        "dataiter = iter(train_loader)\n",
        "images, labels = next(dataiter)\n",
        "show_images(images, labels, class_names, num_images=4)"
      ],
      "metadata": {
        "colab": {
          "base_uri": "https://localhost:8080/",
          "height": 227
        },
        "id": "yPXZ7wwAEVW4",
        "outputId": "6f2e2371-05dd-498e-87bb-e937eabf8bfb"
      },
      "execution_count": 35,
      "outputs": [
        {
          "output_type": "display_data",
          "data": {
            "text/plain": [
              "<Figure size 1000x300 with 4 Axes>"
            ],
            "image/png": "[encoded data removed]"
          },
          "metadata": {}
        }
      ]
    },
    {
      "cell_type": "markdown",
      "source": [
        "GENERATING PAIRS FOR SIAMESE NETWORK"
      ],
      "metadata": {
        "id": "bmmD91u9Ir05"
      }
    },
    {
      "cell_type": "code",
      "source": [
        "# import dataset class\n",
        "from torch.utils.data import Dataset\n",
        "\n",
        "# define custom siamese dataset class\n",
        "class SiameseCIFAR10Dataset(Dataset):\n",
        "  def __init__(self, dataset, num_pairs_per_class=200):\n",
        "    self.dataset = dataset # cifar-10 dataset\n",
        "    self.num_pairs_per_class = num_pairs_per_class\n",
        "    self.num_classes = 10\n",
        "    # unzip images and labels from dataset\n",
        "    self.images, self.labels = zip(*[(img, lbl) for img, lbl in dataset])\n",
        "    self.labels = torch.tensor(self.labels) # convert labels to tensor\n",
        "    self.pairs, self.pair_labels = self._generate_pairs() # create pairs\n",
        "\n",
        "  def _generate_pairs(self):\n",
        "    pairs = []\n",
        "    pair_labels = []\n",
        "    import numpy as np # for random sampling\n",
        "\n",
        "    # generate positive pairs (same class)\n",
        "    for class_idx in range(self.num_classes):\n",
        "      # find indices of images in class\n",
        "      class_indices = (self.labels == class_idx).nonzero(as_tuple=True)[0]\n",
        "      # check if enough images for pairs\n",
        "      if len(class_indices) < 2:\n",
        "        continue\n",
        "      # generate pairs\n",
        "      for _ in range(self.num_pairs_per_class):\n",
        "        idx1, idx2 = np.random.choice(class_indices, 2, replace=False)\n",
        "        pairs.append([self.images[idx1], self.images[idx2]])\n",
        "        pair_labels.append(1)\n",
        "\n",
        "    # generate negative pairs (diff. class)\n",
        "    for _ in range(self.num_pairs_per_class * self.num_classes):\n",
        "      # pick 2 different classes\n",
        "      class1, class2 = np.random.choice(self.num_classes, 2, replace=False)\n",
        "      idx1= np.random.choice((self.labels == class1).nonzero(as_tuple=True)[0])\n",
        "      idx2 = np.random.choice((self.labels == class2).nonzero(as_tuple=True)[0])\n",
        "      pairs.append([self.images[idx1], self.images[idx2]])\n",
        "      pair_labels.append(0)\n",
        "\n",
        "    return pairs, torch.tensor(pair_labels, dtype=torch.float32)\n",
        "\n",
        "  def __len__(self):\n",
        "    return len(self.pairs)\n",
        "\n",
        "  def __getitem__(self, idx):\n",
        "    img1, img2 = self.pairs[idx] # get the 2 images\n",
        "    label = self.pair_labels[idx] # get label\n",
        "    return img1, img2, label\n"
      ],
      "metadata": {
        "id": "l9G1xkjeFT75"
      },
      "execution_count": 36,
      "outputs": []
    },
    {
      "cell_type": "code",
      "source": [
        "# create Siamese dataset\n",
        "siamese_trainset = SiameseCIFAR10Dataset(trainset, num_pairs_per_class=200)\n",
        "\n",
        "# batch the pairs w/ DataLoader\n",
        "train_loader = DataLoader(siamese_trainset, batch_size=4, shuffle=True)"
      ],
      "metadata": {
        "id": "_nbg8YPUImN4"
      },
      "execution_count": 37,
      "outputs": []
    },
    {
      "cell_type": "code",
      "source": [
        "# check a batch\n",
        "dataiter = iter(train_loader)\n",
        "img1, img2, labels = next(dataiter)\n",
        "print(\"Image 1 batch shape:\", img1.shape)\n",
        "print(\"Image 2 batch shape:\", img2.shape)\n",
        "print(\"Labels shape:\", labels.shape)\n",
        "print(\"Total pairs:\", len(siamese_trainset))"
      ],
      "metadata": {
        "colab": {
          "base_uri": "https://localhost:8080/"
        },
        "id": "A1qfG8JhIvGV",
        "outputId": "12a74332-0980-4fe3-9471-f6476c557537"
      },
      "execution_count": 38,
      "outputs": [
        {
          "output_type": "stream",
          "name": "stdout",
          "text": [
            "Image 1 batch shape: torch.Size([4, 3, 32, 32])\n",
            "Image 2 batch shape: torch.Size([4, 3, 32, 32])\n",
            "Labels shape: torch.Size([4])\n",
            "Total pairs: 4000\n"
          ]
        }
      ]
    },
    {
      "cell_type": "markdown",
      "source": [
        "VISUALIZE PAIRS"
      ],
      "metadata": {
        "id": "Z-KaqpYOOnxA"
      }
    },
    {
      "cell_type": "code",
      "source": [
        "# function to plot Siamese pairs\n",
        "def show_pairs(img1, img2, labels, class_names, num_pairs=4):\n",
        "  plt.figure(figsize=(10, 2 * num_pairs)) # widdth 10, height scales w/ pairs\n",
        "  for i in range(num_pairs):\n",
        "    # plot first image in pair\n",
        "    plt.subplot(num_pairs, 2, 2* i + 1) # num_pairs rows, 2 columns\n",
        "    plt.imshow(img1[i].permute(1, 2, 0).numpy())\n",
        "    plt.title(\"Image 1\")\n",
        "    plt.axis('off')\n",
        "\n",
        "    # second image in pair\n",
        "    plt.subplot(num_pairs, 2, 2* i + 2) # num_pairs rows, 2 columns\n",
        "    plt.imshow(img2[i].permute(1, 2, 0).numpy())\n",
        "    plt.title(f\"Image 1 (Similar: {labels[i].item()})\")\n",
        "    plt.axis('off')\n",
        "\n",
        "  plt.tight_layout() # adjust spacing\n",
        "  plt.show()\n",
        "\n",
        "# get a batch from train_loader\n",
        "dataiter = iter(train_loader)\n",
        "img1, img2, labels = next(dataiter)\n",
        "\n",
        "# visualize 4 pairs\n",
        "show_pairs(img1, img2, labels, class_names, num_pairs=4)\n"
      ],
      "metadata": {
        "colab": {
          "base_uri": "https://localhost:8080/",
          "height": 806
        },
        "id": "JE_FSSr_JWJp",
        "outputId": "8bbc57b8-05a9-41fd-e07a-db537f334784"
      },
      "execution_count": 39,
      "outputs": [
        {
          "output_type": "display_data",
          "data": {
            "text/plain": [
              "<Figure size 1000x800 with 8 Axes>"
            ],
            "image/png": "[encoded data removed]"
          },
          "metadata": {}
        }
      ]
    },
    {
      "cell_type": "markdown",
      "source": [
        "DEFINE SIAMESE NEURAL NETWORK MODEL"
      ],
      "metadata": {
        "id": "Tmrasc1VQfTA"
      }
    },
    {
      "cell_type": "code",
      "source": [
        "# import torch.nn.functional for activation function\n",
        "import torch.nn.functional as F\n",
        "\n",
        "# base CNN architecture\n",
        "class BaseCNN(nn.Module):\n",
        "  def __init__(self):\n",
        "    super(BaseCNN, self).__init__()\n",
        "    # convolutional layers\n",
        "    self.conv1 = nn.Conv2d(3, 32, kernel_size = 3, padding=1) # input: 3 channels (rbg), output: 32 channels\n",
        "    self.conv2 = nn.Conv2d(32, 64, kernel_size=3, padding=1) # input: 32, output: 64\n",
        "    # pooling layer\n",
        "    self.pool = nn.MaxPool2d(2, 2) # reduces size by half\n",
        "    # full connected layer\n",
        "    self.fc1 = nn.Linear(64*8*8, 128) # after pooling twice: 32x32 to 16x16 to 8x8\n",
        "\n",
        "  def forward(self, x):\n",
        "    # input x [batch_size, 3, 32, 32]\n",
        "    x = F.relu(self.conv1(x)) # apply conv1 and ReLU\n",
        "    x = self.pool(x) # pool: 32x32 to 16x16\n",
        "    x = F.relu(self.conv2(x)) # apply conv2 and ReLU\n",
        "    x = self.pool(x) # pool: 16x16 to 8x8\n",
        "    x = x.view(-1, 64 * 8 * 8) # flatten: [batch_size, 64 * 8 * 8]\n",
        "    x = F.relu(self.fc1(x)) # fully connected layer to 128 features\n",
        "    return x # [batch_size, 128]\n",
        "\n",
        "# define Siamese Network\n",
        "class SiameseNetwork(nn.Module):\n",
        "  def __init__(self):\n",
        "    super(SiameseNetwork, self).__init__()\n",
        "    self.base_cnn = BaseCNN() # shared CNN for both images\n",
        "    self.fc2 = nn.Linear(128, 1) # final layer to predict similarity\n",
        "\n",
        "\n",
        "  def forward(self, img1, img2):\n",
        "    # process both images through same CNN\n",
        "    embedding1 = self.base_cnn(img1) # [batch_size, 128]\n",
        "    embedding2 = self.base_cnn(img2) # [batch_size, 128]\n",
        "    # compute absolute difference between embeddings\n",
        "    distance = torch.abs(embedding1 - embedding2) # [batch_size, 128]\n",
        "    # predict similarity\n",
        "    output = torch.sigmoid(self.fc2(distance)) # [batch_size, 1]\n",
        "    return output\n",
        "\n",
        "device = torch.device(\"cuda\" if torch.cuda.is_available() else \"cpu\")\n",
        "model = SiameseNetwork().to(device)\n",
        "print(\"Model moved to:\", device)\n",
        "\n",
        "# test with batch\n",
        "img1, img2, labels = next(iter(train_loader))\n",
        "img1, img2 = img1.to(device), img2.to(device) # move to GPU\n",
        "output = model(img1, img2)\n",
        "print(\"Output shape:\", output.shape)\n",
        "print(\"Sample output:\", output[:2])"
      ],
      "metadata": {
        "colab": {
          "base_uri": "https://localhost:8080/"
        },
        "id": "pBJAsPK_QfpT",
        "outputId": "f3da29bb-37e3-4c0a-e25e-c80ede581e74"
      },
      "execution_count": 40,
      "outputs": [
        {
          "output_type": "stream",
          "name": "stdout",
          "text": [
            "Model moved to: cuda\n",
            "Output shape: torch.Size([4, 1])\n",
            "Sample output: tensor([[0.4882],\n",
            "        [0.4899]], device='cuda:0', grad_fn=<SliceBackward0>)\n"
          ]
        }
      ]
    },
    {
      "cell_type": "markdown",
      "source": [
        "TRAINING MODEL"
      ],
      "metadata": {
        "id": "nOSve1QJUAvS"
      }
    },
    {
      "cell_type": "code",
      "source": [
        "import torch.optim as optim\n",
        "\n",
        "# define loss function & optimizer\n",
        "criterion = nn.BCELoss() # binary cross-entropy loss\n",
        "optimizer = optim.Adam(model.parameters(), lr=0.001)\n",
        "\n",
        "# training function\n",
        "def train_model(mode, train_loader, criterion, optimizer, num_epochs=5):\n",
        "  model.train()\n",
        "  for epoch in range(num_epochs):\n",
        "    running_loss = 0.0\n",
        "    for img1, img2, labels in train_loader:\n",
        "      # move data to GPU\n",
        "      img1, img2, labels = img1.to(device), img2.to(device), labels.to(device)\n",
        "\n",
        "      # zero gradients\n",
        "      optimizer.zero_grad()\n",
        "\n",
        "      # forward pass\n",
        "      outputs = model(img1, img2) # [batch_size, 1]\n",
        "      loss = criterion(outputs.squeeze(), labels)\n",
        "\n",
        "      # backward pass & optimize\n",
        "      loss.backward()\n",
        "      optimizer.step()\n",
        "\n",
        "      running_loss += loss.item() * img1.size(0) # total loss for batch\n",
        "\n",
        "    # average loss for the epoch\n",
        "    epoch_loss = running_loss/len(train_loader.dataset)\n",
        "    print(f\"Epoch [{epoch+1}/{num_epochs}], Loss: {epoch_loss:.4f}\")\n",
        "\n",
        "\n",
        "# train model\n",
        "train_model(model, train_loader, criterion, optimizer, num_epochs=15)"
      ],
      "metadata": {
        "id": "Qqp8S_JiUDZ1",
        "outputId": "c8b1ddb1-33ee-48fb-edcb-cb0439050ecb",
        "colab": {
          "base_uri": "https://localhost:8080/"
        }
      },
      "execution_count": 41,
      "outputs": [
        {
          "output_type": "stream",
          "name": "stdout",
          "text": [
            "Epoch [1/15], Loss: 0.6932\n",
            "Epoch [2/15], Loss: 0.6818\n",
            "Epoch [3/15], Loss: 0.6583\n",
            "Epoch [4/15], Loss: 0.6341\n",
            "Epoch [5/15], Loss: 0.6058\n",
            "Epoch [6/15], Loss: 0.5628\n",
            "Epoch [7/15], Loss: 0.5119\n",
            "Epoch [8/15], Loss: 0.4486\n",
            "Epoch [9/15], Loss: 0.3805\n",
            "Epoch [10/15], Loss: 0.3096\n",
            "Epoch [11/15], Loss: 0.2269\n",
            "Epoch [12/15], Loss: 0.1697\n",
            "Epoch [13/15], Loss: 0.1139\n",
            "Epoch [14/15], Loss: 0.1007\n",
            "Epoch [15/15], Loss: 0.0687\n"
          ]
        }
      ]
    },
    {
      "cell_type": "code",
      "source": [],
      "metadata": {
        "id": "PiBJyYxpYmw5"
      },
      "execution_count": null,
      "outputs": []
    }
  ]
}