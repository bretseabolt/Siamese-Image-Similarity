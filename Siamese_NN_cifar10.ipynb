{
  "nbformat": 4,
  "nbformat_minor": 0,
  "metadata": {
    "colab": {
      "provenance": [],
      "machine_shape": "hm",
      "gpuType": "L4"
    },
    "kernelspec": {
      "name": "python3",
      "display_name": "Python 3"
    },
    "language_info": {
      "name": "python"
    },
    "accelerator": "GPU"
  },
  "cells": [
    {
      "cell_type": "markdown",
      "source": [
        "IMPORTS, LOADING, AND PREPROCESSING"
      ],
      "metadata": {
        "id": "Cw3EhV_2CwSS"
      }
    },
    {
      "cell_type": "code",
      "execution_count": 1,
      "metadata": {
        "id": "cWaYA3jB9uHO"
      },
      "outputs": [],
      "source": [
        "# import libraries\n",
        "import torch\n",
        "import torch.nn as nn\n",
        "import torchvision\n",
        "import torchvision.transforms as transforms\n",
        "import matplotlib.pyplot as plt\n",
        "from torch.utils.data import DataLoader"
      ]
    },
    {
      "cell_type": "code",
      "source": [
        "# check PyTorch and GPU setup\n",
        "print(\"PyTorch Version:\", torch.__version__)\n",
        "print(\"CUDA Available:\", torch.cuda.is_available())\n",
        "print(\"GPU Name:\", torch.cuda.get_device_name(0) if torch.cuda.is_available() else \"No GPU\")"
      ],
      "metadata": {
        "colab": {
          "base_uri": "https://localhost:8080/"
        },
        "id": "_MrT6Ag6_IoH",
        "outputId": "9070fadf-91a3-4c07-dc4a-69c652147795"
      },
      "execution_count": 2,
      "outputs": [
        {
          "output_type": "stream",
          "name": "stdout",
          "text": [
            "PyTorch Version: 2.5.1+cu124\n",
            "CUDA Available: True\n",
            "GPU Name: NVIDIA L4\n"
          ]
        }
      ]
    },
    {
      "cell_type": "code",
      "source": [
        "# preprocessing transformation\n",
        "# convert images to PyTorch tensors\n",
        "transform = transforms.Compose([transforms.ToTensor(),\n",
        "                                ])"
      ],
      "metadata": {
        "id": "7e3Ci4LNADtg"
      },
      "execution_count": 3,
      "outputs": []
    },
    {
      "cell_type": "code",
      "source": [
        "# load cifar-10 dataset\n",
        "# partition into train and test sets\n",
        "trainset=torchvision.datasets.CIFAR10(\n",
        "    root='./data',\n",
        "    train=True, # load training set (50k images)\n",
        "    download=True,\n",
        "    transform=transform\n",
        ")\n",
        "\n",
        "testset = torchvision.datasets.CIFAR10(\n",
        "    root='./data',\n",
        "    train=False, # load test set (10k images)\n",
        "    download=True,\n",
        "    transform=transform\n",
        ")"
      ],
      "metadata": {
        "colab": {
          "base_uri": "https://localhost:8080/"
        },
        "id": "gHJRShz-AYL4",
        "outputId": "36739247-bfb6-40ed-9f20-7e8e907b351d"
      },
      "execution_count": 5,
      "outputs": [
        {
          "output_type": "stream",
          "name": "stdout",
          "text": [
            "Downloading https://www.cs.toronto.edu/~kriz/cifar-10-python.tar.gz to ./data/cifar-10-python.tar.gz\n"
          ]
        },
        {
          "output_type": "stream",
          "name": "stderr",
          "text": [
            "100%|██████████| 170M/170M [00:13<00:00, 12.9MB/s]\n"
          ]
        },
        {
          "output_type": "stream",
          "name": "stdout",
          "text": [
            "Extracting ./data/cifar-10-python.tar.gz to ./data\n",
            "Files already downloaded and verified\n"
          ]
        }
      ]
    },
    {
      "cell_type": "code",
      "source": [
        "# create dataloaders\n",
        "train_loader = DataLoader(trainset, batch_size=4, shuffle=True)\n",
        "test_loader = DataLoader(testset, batch_size=4, shuffle=False)"
      ],
      "metadata": {
        "id": "Yx8c5ABxBVOY"
      },
      "execution_count": 6,
      "outputs": []
    },
    {
      "cell_type": "code",
      "source": [
        "# inspect data\n",
        "dataiter = iter(train_loader) # iterator to grab batch\n",
        "images, labels = next(dataiter) # get first batch\n",
        "print(\"Batch of images shape:\", images.shape)\n",
        "print(\"Batch of labels shape:\", labels.shape)\n",
        "print(\"Image value range:\", images.min().item(), \"to\", images.max().item())"
      ],
      "metadata": {
        "colab": {
          "base_uri": "https://localhost:8080/"
        },
        "id": "4XNBBj_QByZp",
        "outputId": "a1d45f80-9562-4cb3-fa30-c64ac4d75e7f"
      },
      "execution_count": 7,
      "outputs": [
        {
          "output_type": "stream",
          "name": "stdout",
          "text": [
            "Batch of images shape: torch.Size([4, 3, 32, 32])\n",
            "Batch of labels shape: torch.Size([4])\n",
            "Image value range: 0.0 to 0.9215686321258545\n"
          ]
        }
      ]
    },
    {
      "cell_type": "code",
      "source": [
        "# define class names for reference\n",
        "class_names = ['airplane', 'automobile', 'bird', 'cat', 'deer',\n",
        "               'dog', 'frog', 'horse', 'ship', 'truck']\n",
        "\n",
        "\n",
        "print(\"Class names:\", class_names)"
      ],
      "metadata": {
        "colab": {
          "base_uri": "https://localhost:8080/"
        },
        "id": "Ak7XGg-VCN4a",
        "outputId": "1e1bacec-1433-4e0b-d2cf-078e0a954fb6"
      },
      "execution_count": 8,
      "outputs": [
        {
          "output_type": "stream",
          "name": "stdout",
          "text": [
            "Class names: ['airplane', 'automobile', 'bird', 'cat', 'deer', 'dog', 'frog', 'horse', 'ship', 'truck']\n"
          ]
        }
      ]
    },
    {
      "cell_type": "markdown",
      "source": [
        "VERIFY AND VISUALIZE DATA"
      ],
      "metadata": {
        "id": "7LE-7XgHDJr-"
      }
    },
    {
      "cell_type": "code",
      "source": [
        "# check full dataset range\n",
        "all_images = torch.stack([img for img, _ in trainset]) # stacks all 50k training images\n",
        "print(\"Full training set value range:\", all_images.min().item(), \"to\", all_images.max().item())"
      ],
      "metadata": {
        "colab": {
          "base_uri": "https://localhost:8080/"
        },
        "id": "JVnO1t5rDPa-",
        "outputId": "4bd51358-1a72-407e-eaf1-841245fd61df"
      },
      "execution_count": 9,
      "outputs": [
        {
          "output_type": "stream",
          "name": "stdout",
          "text": [
            "Full training set value range: 0.0 to 1.0\n"
          ]
        }
      ]
    },
    {
      "cell_type": "code",
      "source": [
        "# function to visualize images\n",
        "def show_images(images, labels, class_names, num_images=4):\n",
        "  plt.figure(figsize=(10,3))\n",
        "  for i in range(num_images):\n",
        "    plt.subplot(1, num_images, i+1)\n",
        "    # permute tensor from [3, 32, 32] to [32, 32, 3] for display\n",
        "    img = images[i].permute(1, 2, 0).numpy()\n",
        "    plt.imshow(img)\n",
        "    plt.title(class_names[labels[i].item()])\n",
        "    plt.axis('off')\n",
        "  plt.show()"
      ],
      "metadata": {
        "id": "3qgRDNN2DvBu"
      },
      "execution_count": 10,
      "outputs": []
    },
    {
      "cell_type": "code",
      "source": [
        "# grab a batch and visualize\n",
        "dataiter = iter(train_loader)\n",
        "images, labels = next(dataiter)\n",
        "show_images(images, labels, class_names, num_images=4)"
      ],
      "metadata": {
        "colab": {
          "base_uri": "https://localhost:8080/",
          "height": 227
        },
        "id": "yPXZ7wwAEVW4",
        "outputId": "1c713e07-273f-4104-e8b7-d55c9818ef55"
      },
      "execution_count": 11,
      "outputs": [
        {
          "output_type": "display_data",
          "data": {
            "text/plain": [
              "<Figure size 1000x300 with 4 Axes>"
            ],
            "image/png": "[encoded data removed]"
          },
          "metadata": {}
        }
      ]
    },
    {
      "cell_type": "markdown",
      "source": [
        "GENERATING PAIRS FOR SIAMESE NETWORK"
      ],
      "metadata": {
        "id": "bmmD91u9Ir05"
      }
    },
    {
      "cell_type": "code",
      "source": [
        "# import dataset class\n",
        "from torch.utils.data import Dataset\n",
        "\n",
        "# define custom siamese dataset class\n",
        "class SiameseCIFAR10Dataset(Dataset):\n",
        "  def __init__(self, dataset, num_pairs_per_class=200):\n",
        "    self.dataset = dataset # cifar-10 dataset\n",
        "    self.num_pairs_per_class = num_pairs_per_class\n",
        "    self.num_classes = 10\n",
        "    # unzip images and labels from dataset\n",
        "    self.images, self.labels = zip(*[(img, lbl) for img, lbl in dataset])\n",
        "    self.labels = torch.tensor(self.labels) # convert labels to tensor\n",
        "    self.pairs, self.pair_labels = self._generate_pairs() # create pairs\n",
        "\n",
        "  def _generate_pairs(self):\n",
        "    pairs = []\n",
        "    pair_labels = []\n",
        "    import numpy as np # for random sampling\n",
        "\n",
        "    # generate positive pairs (same class)\n",
        "    for class_idx in range(self.num_classes):\n",
        "      # find indices of images in class\n",
        "      class_indices = (self.labels == class_idx).nonzero(as_tuple=True)[0]\n",
        "      # check if enough images for pairs\n",
        "      if len(class_indices) < 2:\n",
        "        continue\n",
        "      # generate pairs\n",
        "      for _ in range(self.num_pairs_per_class):\n",
        "        idx1, idx2 = np.random.choice(class_indices, 2, replace=False)\n",
        "        pairs.append([self.images[idx1], self.images[idx2]])\n",
        "        pair_labels.append(1)\n",
        "\n",
        "    # generate negative pairs (diff. class)\n",
        "    for _ in range(self.num_pairs_per_class * self.num_classes):\n",
        "      # pick 2 different classes\n",
        "      class1, class2 = np.random.choice(self.num_classes, 2, replace=False)\n",
        "      idx1= np.random.choice((self.labels == class1).nonzero(as_tuple=True)[0])\n",
        "      idx2 = np.random.choice((self.labels == class2).nonzero(as_tuple=True)[0])\n",
        "      pairs.append([self.images[idx1], self.images[idx2]])\n",
        "      pair_labels.append(0)\n",
        "\n",
        "    return pairs, torch.tensor(pair_labels, dtype=torch.float32)\n",
        "\n",
        "  def __len__(self):\n",
        "    return len(self.pairs)\n",
        "\n",
        "  def __getitem__(self, idx):\n",
        "    img1, img2 = self.pairs[idx] # get the 2 images\n",
        "    label = self.pair_labels[idx] # get label\n",
        "    return img1, img2, label\n"
      ],
      "metadata": {
        "id": "l9G1xkjeFT75"
      },
      "execution_count": 12,
      "outputs": []
    },
    {
      "cell_type": "code",
      "source": [
        "# create Siamese dataset\n",
        "siamese_trainset = SiameseCIFAR10Dataset(trainset, num_pairs_per_class=200)\n",
        "\n",
        "# batch the pairs w/ DataLoader\n",
        "train_loader = DataLoader(siamese_trainset, batch_size=4, shuffle=True)"
      ],
      "metadata": {
        "id": "_nbg8YPUImN4"
      },
      "execution_count": 13,
      "outputs": []
    },
    {
      "cell_type": "code",
      "source": [
        "# check a batch\n",
        "dataiter = iter(train_loader)\n",
        "img1, img2, labels = next(dataiter)\n",
        "print(\"Image 1 batch shape:\", img1.shape)\n",
        "print(\"Image 2 batch shape:\", img2.shape)\n",
        "print(\"Labels shape:\", labels.shape)\n",
        "print(\"Total pairs:\", len(siamese_trainset))"
      ],
      "metadata": {
        "colab": {
          "base_uri": "https://localhost:8080/"
        },
        "id": "A1qfG8JhIvGV",
        "outputId": "3109d213-60ab-4ef3-8e6c-1b15869b5c4c"
      },
      "execution_count": 15,
      "outputs": [
        {
          "output_type": "stream",
          "name": "stdout",
          "text": [
            "Image 1 batch shape: torch.Size([4, 3, 32, 32])\n",
            "Image 2 batch shape: torch.Size([4, 3, 32, 32])\n",
            "Labels shape: torch.Size([4])\n",
            "Total pairs: 4000\n"
          ]
        }
      ]
    },
    {
      "cell_type": "markdown",
      "source": [
        "VISUALIZE PAIRS"
      ],
      "metadata": {
        "id": "Z-KaqpYOOnxA"
      }
    },
    {
      "cell_type": "code",
      "source": [
        "# function to plot Siamese pairs\n",
        "def show_pairs(img1, img2, labels, class_names, num_pairs=4):\n",
        "  plt.figure(figsize=(10, 2 * num_pairs)) # widdth 10, height scales w/ pairs\n",
        "  for i in range(num_pairs):\n",
        "    # plot first image in pair\n",
        "    plt.subplot(num_pairs, 2, 2* i + 1) # num_pairs rows, 2 columns\n",
        "    plt.imshow(img1[i].permute(1, 2, 0).numpy())\n",
        "    plt.title(\"Image 1\")\n",
        "    plt.axis('off')\n",
        "\n",
        "    # second image in pair\n",
        "    plt.subplot(num_pairs, 2, 2* i + 2) # num_pairs rows, 2 columns\n",
        "    plt.imshow(img2[i].permute(1, 2, 0).numpy())\n",
        "    plt.title(f\"Image 1 (Similar: {labels[i].item()})\")\n",
        "    plt.axis('off')\n",
        "\n",
        "  plt.tight_layout() # adjust spacing\n",
        "  plt.show()\n",
        "\n",
        "# get a batch from train_loader\n",
        "dataiter = iter(train_loader)\n",
        "img1, img2, labels = next(dataiter)\n",
        "\n",
        "# visualize 4 pairs\n",
        "show_pairs(img1, img2, labels, class_names, num_pairs=4)\n"
      ],
      "metadata": {
        "colab": {
          "base_uri": "https://localhost:8080/",
          "height": 806
        },
        "id": "JE_FSSr_JWJp",
        "outputId": "5e767ef4-4a26-4348-8afb-b7a3265684df"
      },
      "execution_count": 18,
      "outputs": [
        {
          "output_type": "display_data",
          "data": {
            "text/plain": [
              "<Figure size 1000x800 with 8 Axes>"
            ],
            "image/png": "[encoded data removed]"
          },
          "metadata": {}
        }
      ]
    },
    {
      "cell_type": "markdown",
      "source": [
        "DEFINE SIAMESE NEURAL NETWORK MODEL"
      ],
      "metadata": {
        "id": "Tmrasc1VQfTA"
      }
    },
    {
      "cell_type": "code",
      "source": [
        "# import torch.nn.functional for activation function\n",
        "import torch.nn.functional as F\n",
        "\n",
        "# base CNN architecture\n",
        "class BaseCNN(nn.Module):\n",
        "  def __init__(self):\n",
        "    super(BaseCNN, self).__init__()\n",
        "    # convolutional layers\n",
        "    self.conv1 = nn.Conv2d(3, 32, kernel_size = 3, padding=1) # input: 3 channels (rbg), output: 32 channels\n",
        "    self.conv2 = nn.Conv2d(32, 64, kernel_size=3, padding=1) # input: 32, output: 64\n",
        "    # pooling layer\n",
        "    self.pool = nn.MaxPool2d(2, 2) # reduces size by half\n",
        "    # full connected layer\n",
        "    self.fc1 = nn.Linear(64*8*8, 128) # after pooling twice: 32x32 to 16x16 to 8x8\n",
        "\n",
        "  def forward(self, x):\n",
        "    # input x [batch_size, 3, 32, 32]\n",
        "    x = F.relu(self.conv1(x)) # apply conv1 and ReLU\n",
        "    x = self.pool(x) # pool: 32x32 to 16x16\n",
        "    x = F.relu(self.conv2(x)) # apply conv2 and ReLU\n",
        "    x = self.pool(x) # pool: 16x16 to 8x8\n",
        "    x = x.view(-1, 64 * 8 * 8) # flatten: [batch_size, 64 * 8 * 8]\n",
        "    x = F.relu(self.fc1(x)) # fully connected layer to 128 features\n",
        "    return x # [batch_size, 128]\n",
        "\n",
        "# define Siamese Network\n",
        "class SiameseNetwork(nn.Module):\n",
        "  def __init__(self):\n",
        "    super(SiameseNetwork, self).__init__()\n",
        "    self.base_cnn = BaseCNN() # shared CNN for both images\n",
        "    self.fc2 = nn.Linear(128, 1) # final layer to predict similarity\n",
        "\n",
        "\n",
        "  def forward(self, img1, img2):\n",
        "    # process both images through same CNN\n",
        "    embedding1 = self.base_cnn(img1) # [batch_size, 128]\n",
        "    embedding2 = self.base_cnn(img2) # [batch_size, 128]\n",
        "    # compute absolute difference between embeddings\n",
        "    distance = torch.abs(embedding1 - embedding2) # [batch_size, 128]\n",
        "    # predict similarity\n",
        "    output = torch.sigmoid(self.fc2(distance)) # [batch_size, 1]\n",
        "    return output\n",
        "\n",
        "device = torch.device(\"cuda\" if torch.cuda.is_available() else \"cpu\")\n",
        "model = SiameseNetwork().to(device)\n",
        "print(\"Model moved to:\", device)\n",
        "\n",
        "# test with batch\n",
        "img1, img2, labels = next(iter(train_loader))\n",
        "img1, img2 = img1.to(device), img2.to(device) # move to GPU\n",
        "output = model(img1, img2)\n",
        "print(\"Output shape:\", output.shape)\n",
        "print(\"Sample output:\", output[:2])"
      ],
      "metadata": {
        "id": "pBJAsPK_QfpT",
        "outputId": "cce5baaf-485b-445e-9a8d-7e78c3f46042",
        "colab": {
          "base_uri": "https://localhost:8080/"
        }
      },
      "execution_count": 21,
      "outputs": [
        {
          "output_type": "stream",
          "name": "stdout",
          "text": [
            "Model moved to: cuda\n",
            "Output shape: torch.Size([4, 1])\n",
            "Sample output: tensor([[0.4795],\n",
            "        [0.4779]], device='cuda:0', grad_fn=<SliceBackward0>)\n"
          ]
        }
      ]
    }
  ]
}