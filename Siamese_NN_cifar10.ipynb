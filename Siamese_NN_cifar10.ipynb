{
  "nbformat": 4,
  "nbformat_minor": 0,
  "metadata": {
    "colab": {
      "provenance": [],
      "machine_shape": "hm",
      "gpuType": "L4"
    },
    "kernelspec": {
      "name": "python3",
      "display_name": "Python 3"
    },
    "language_info": {
      "name": "python"
    },
    "accelerator": "GPU"
  },
  "cells": [
    {
      "cell_type": "markdown",
      "source": [
        "IMPORTS, LOADING, AND PREPROCESSING"
      ],
      "metadata": {
        "id": "Cw3EhV_2CwSS"
      }
    },
    {
      "cell_type": "code",
      "execution_count": 1,
      "metadata": {
        "id": "cWaYA3jB9uHO"
      },
      "outputs": [],
      "source": [
        "# import libraries\n",
        "import torch\n",
        "import torch.nn as nn\n",
        "import torchvision\n",
        "import torchvision.transforms as transforms\n",
        "import matplotlib.pyplot as plt\n",
        "from torch.utils.data import DataLoader"
      ]
    },
    {
      "cell_type": "code",
      "source": [
        "# check PyTorch and GPU setup\n",
        "print(\"PyTorch Version:\", torch.__version__)\n",
        "print(\"CUDA Available:\", torch.cuda.is_available())\n",
        "print(\"GPU Name:\", torch.cuda.get_device_name(0) if torch.cuda.is_available() else \"No GPU\")"
      ],
      "metadata": {
        "id": "_MrT6Ag6_IoH",
        "outputId": "9070fadf-91a3-4c07-dc4a-69c652147795",
        "colab": {
          "base_uri": "https://localhost:8080/"
        }
      },
      "execution_count": 2,
      "outputs": [
        {
          "output_type": "stream",
          "name": "stdout",
          "text": [
            "PyTorch Version: 2.5.1+cu124\n",
            "CUDA Available: True\n",
            "GPU Name: NVIDIA L4\n"
          ]
        }
      ]
    },
    {
      "cell_type": "code",
      "source": [
        "# preprocessing transformation\n",
        "# convert images to PyTorch tensors\n",
        "transform = transforms.Compose([transforms.ToTensor(),\n",
        "                                ])"
      ],
      "metadata": {
        "id": "7e3Ci4LNADtg"
      },
      "execution_count": 3,
      "outputs": []
    },
    {
      "cell_type": "code",
      "source": [
        "# load cifar-10 dataset\n",
        "# partition into train and test sets\n",
        "trainset=torchvision.datasets.CIFAR10(\n",
        "    root='./data',\n",
        "    train=True, # load training set (50k images)\n",
        "    download=True,\n",
        "    transform=transform\n",
        ")\n",
        "\n",
        "testset = torchvision.datasets.CIFAR10(\n",
        "    root='./data',\n",
        "    train=False, # load test set (10k images)\n",
        "    download=True,\n",
        "    transform=transform\n",
        ")"
      ],
      "metadata": {
        "id": "gHJRShz-AYL4",
        "outputId": "36739247-bfb6-40ed-9f20-7e8e907b351d",
        "colab": {
          "base_uri": "https://localhost:8080/"
        }
      },
      "execution_count": 5,
      "outputs": [
        {
          "output_type": "stream",
          "name": "stdout",
          "text": [
            "Downloading https://www.cs.toronto.edu/~kriz/cifar-10-python.tar.gz to ./data/cifar-10-python.tar.gz\n"
          ]
        },
        {
          "output_type": "stream",
          "name": "stderr",
          "text": [
            "100%|██████████| 170M/170M [00:13<00:00, 12.9MB/s]\n"
          ]
        },
        {
          "output_type": "stream",
          "name": "stdout",
          "text": [
            "Extracting ./data/cifar-10-python.tar.gz to ./data\n",
            "Files already downloaded and verified\n"
          ]
        }
      ]
    },
    {
      "cell_type": "code",
      "source": [
        "# create dataloaders\n",
        "train_loader = DataLoader(trainset, batch_size=4, shuffle=True)\n",
        "test_loader = DataLoader(testset, batch_size=4, shuffle=False)"
      ],
      "metadata": {
        "id": "Yx8c5ABxBVOY"
      },
      "execution_count": 6,
      "outputs": []
    },
    {
      "cell_type": "code",
      "source": [
        "# inspect data\n",
        "dataiter = iter(train_loader) # iterator to grab batch\n",
        "images, labels = next(dataiter) # get first batch\n",
        "print(\"Batch of images shape:\", images.shape)\n",
        "print(\"Batch of labels shape:\", labels.shape)\n",
        "print(\"Image value range:\", images.min().item(), \"to\", images.max().item())"
      ],
      "metadata": {
        "id": "4XNBBj_QByZp",
        "outputId": "a1d45f80-9562-4cb3-fa30-c64ac4d75e7f",
        "colab": {
          "base_uri": "https://localhost:8080/"
        }
      },
      "execution_count": 7,
      "outputs": [
        {
          "output_type": "stream",
          "name": "stdout",
          "text": [
            "Batch of images shape: torch.Size([4, 3, 32, 32])\n",
            "Batch of labels shape: torch.Size([4])\n",
            "Image value range: 0.0 to 0.9215686321258545\n"
          ]
        }
      ]
    },
    {
      "cell_type": "code",
      "source": [
        "# define class names for reference\n",
        "class_names = ['airplane', 'automobile', 'bird', 'cat', 'deer',\n",
        "               'dog', 'frog', 'horse', 'ship', 'truck']\n",
        "\n",
        "\n",
        "print(\"Class names:\", class_names)"
      ],
      "metadata": {
        "id": "Ak7XGg-VCN4a",
        "outputId": "1e1bacec-1433-4e0b-d2cf-078e0a954fb6",
        "colab": {
          "base_uri": "https://localhost:8080/"
        }
      },
      "execution_count": 8,
      "outputs": [
        {
          "output_type": "stream",
          "name": "stdout",
          "text": [
            "Class names: ['airplane', 'automobile', 'bird', 'cat', 'deer', 'dog', 'frog', 'horse', 'ship', 'truck']\n"
          ]
        }
      ]
    }
  ]
}